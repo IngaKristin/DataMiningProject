{
 "cells": [
  {
   "cell_type": "markdown",
   "id": "6857f5b2",
   "metadata": {},
   "source": [
    "### K-means"
   ]
  },
  {
   "cell_type": "code",
   "execution_count": null,
   "id": "a0ce50fc",
   "metadata": {},
   "outputs": [],
   "source": [
    "def kmeans(data, k = 3):\n",
    "    \"\"\"\n",
    "    Applies kmeans clustering to the data using k initial clusters.\n",
    "    data is expected to be a numpy array of size n*2, \n",
    "    n being the amount of observations in the data. This function returns\n",
    "    the centroids and the labels for the clusters data (1,1,3,5,5,5,...)\n",
    "    \"\"\"\n",
    "    # Initial centroids are k random samples from the data.\n",
    "    centroids = data[np.random.randint(0, data.shape[0], k)]\n",
    "    old_centroids = np.zeros(centroids.shape)\n",
    "    \n",
    "    # Initial labels are all.. something.\n",
    "    labels = np.ndarray(data.shape[0])\n",
    "    \n",
    "    # Lets keep count of our iterations to avoid infinite loops.\n",
    "    iterations = 0\n",
    "    \n",
    "    while np.any(np.abs(centroids - old_centroids) > np.finfo(float).eps) and iterations < 1000:\n",
    "        # Keep count of iterations and remember current centroids for change calculation.\n",
    "        iterations = iterations + 1\n",
    "        #copy the centroids and keep them for break condition check\n",
    "        old_centroids = np.copy(centroids)\n",
    "        \n",
    "        # Calculate new labels. Labels are the index of their minimal distance to any centroid.\n",
    "        labels = np.argmin(pdist2(centroids, data), axis=0)\n",
    "        \n",
    "        # Update centroids using the new cluster labels.\n",
    "        for label in range(k): \n",
    "            # Check for empty clusters.\n",
    "            if (len(labels == label) > 0):\n",
    "                # Cluster is not empty, move its centroid to new mean.\n",
    "                centroids[label, :] = np.mean(data[labels == label], axis=0)\n",
    "            else:\n",
    "                # Cluster is empty, set its centroid to the furthest outlier.\n",
    "                blacksheep = np.argmax(pdist2(centroids, data), axis=0)\n",
    "                centroids[label, :] = data[blacksheep, :]\n",
    "\n",
    "    # Return labels and centroids for pretty plotting.\n",
    "    return (labels, centroids)"
   ]
  }
 ],
 "metadata": {
  "kernelspec": {
   "display_name": "Python 3 (ipykernel)",
   "language": "python",
   "name": "python3"
  },
  "language_info": {
   "codemirror_mode": {
    "name": "ipython",
    "version": 3
   },
   "file_extension": ".py",
   "mimetype": "text/x-python",
   "name": "python",
   "nbconvert_exporter": "python",
   "pygments_lexer": "ipython3",
   "version": "3.11.4"
  }
 },
 "nbformat": 4,
 "nbformat_minor": 5
}
